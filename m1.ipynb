{
 "cells": [
  {
   "cell_type": "code",
   "execution_count": 1,
   "metadata": {},
   "outputs": [],
   "source": [
    "import os\n",
    "import cv2\n",
    "import pandas as pd\n",
    "import numpy as np\n",
    "import matplotlib.pyplot as plt"
   ]
  },
  {
   "cell_type": "code",
   "execution_count": 2,
   "metadata": {},
   "outputs": [
    {
     "name": "stderr",
     "output_type": "stream",
     "text": [
      "<>:1: SyntaxWarning: invalid escape sequence '\\p'\n",
      "<>:1: SyntaxWarning: invalid escape sequence '\\p'\n",
      "C:\\Users\\Yuvra\\AppData\\Local\\Temp\\ipykernel_17272\\37807443.py:1: SyntaxWarning: invalid escape sequence '\\p'\n",
      "  dataset_path = 'archive\\plantvillage-dataset\\color'\n"
     ]
    },
    {
     "name": "stdout",
     "output_type": "stream",
     "text": [
      "archive\\plantvillage-dataset\\color\\Apple___Apple_scab\n",
      "archive\\plantvillage-dataset\\color\\Apple___Black_rot\n",
      "archive\\plantvillage-dataset\\color\\Apple___Cedar_apple_rust\n",
      "archive\\plantvillage-dataset\\color\\Apple___healthy\n"
     ]
    }
   ],
   "source": [
    "dataset_path = 'archive\\plantvillage-dataset\\color'\n",
    "\n",
    "tomato_directories = []\n",
    "\n",
    "# Walk through the dataset path\n",
    "for root, dirs, files in os.walk(dataset_path):\n",
    "    for dir_name in dirs:\n",
    "        # Check if 'Apple' is in the directory name\n",
    "        if 'Apple' in dir_name:\n",
    "            tomato_directories.append(os.path.join(root, dir_name))\n",
    "\n",
    "# Print the apple directories\n",
    "for directory in tomato_directories:\n",
    "    print(directory)"
   ]
  },
  {
   "cell_type": "code",
   "execution_count": 4,
   "metadata": {},
   "outputs": [],
   "source": [
    "image_paths = []\n",
    "labels = []"
   ]
  },
  {
   "cell_type": "code",
   "execution_count": 5,
   "metadata": {},
   "outputs": [
    {
     "name": "stdout",
     "output_type": "stream",
     "text": [
      "Directory: archive\\plantvillage-dataset\\color\\Apple___Apple_scab, Added 630 files.\n",
      "Directory: archive\\plantvillage-dataset\\color\\Apple___Black_rot, Added 621 files.\n",
      "Directory: archive\\plantvillage-dataset\\color\\Apple___Cedar_apple_rust, Added 275 files.\n",
      "Directory: archive\\plantvillage-dataset\\color\\Apple___healthy, Added 1645 files.\n",
      "Total images processed: 3171\n"
     ]
    }
   ],
   "source": [
    "label_mapping = {\n",
    "    \"Apple___healthy\": 0,\n",
    "    \"Apple___Apple_scab\": 1,\n",
    "    \"Apple___Black_rot\": 2,\n",
    "    \"Apple___Cedar_apple_rust\": 3,\n",
    "}\n",
    "\n",
    "# Iterate through all the tomato directories\n",
    "for directory in tomato_directories:\n",
    "    # Get the label based on the directory name\n",
    "    dir_name = os.path.basename(directory)  # Get the last part of the path\n",
    "    label = label_mapping.get(dir_name, None)  # Get the corresponding label\n",
    "\n",
    "    if label is not None:  # Proceed only if the label exists\n",
    "        # Get all image files in the directory\n",
    "        file_count = 0\n",
    "        for file in os.listdir(directory):\n",
    "            if file.lower().endswith(('.jpg', '.png', '.jpeg')):\n",
    "                image_paths.append(os.path.join(directory, file))\n",
    "                labels.append(str(label))  # Append the label\n",
    "                file_count += 1\n",
    "        print(f\"Directory: {directory}, Added {file_count} files.\")\n",
    "    else:\n",
    "        print(f\"Warning: No label found for directory {dir_name}\")\n",
    "\n",
    "print(f\"Total images processed: {len(image_paths)}\")"
   ]
  },
  {
   "cell_type": "code",
   "execution_count": 6,
   "metadata": {},
   "outputs": [
    {
     "data": {
      "text/html": [
       "<div>\n",
       "<style scoped>\n",
       "    .dataframe tbody tr th:only-of-type {\n",
       "        vertical-align: middle;\n",
       "    }\n",
       "\n",
       "    .dataframe tbody tr th {\n",
       "        vertical-align: top;\n",
       "    }\n",
       "\n",
       "    .dataframe thead th {\n",
       "        text-align: right;\n",
       "    }\n",
       "</style>\n",
       "<table border=\"1\" class=\"dataframe\">\n",
       "  <thead>\n",
       "    <tr style=\"text-align: right;\">\n",
       "      <th></th>\n",
       "      <th>image_path</th>\n",
       "      <th>label</th>\n",
       "    </tr>\n",
       "  </thead>\n",
       "  <tbody>\n",
       "    <tr>\n",
       "      <th>0</th>\n",
       "      <td>archive\\plantvillage-dataset\\color\\Apple___App...</td>\n",
       "      <td>1</td>\n",
       "    </tr>\n",
       "    <tr>\n",
       "      <th>1</th>\n",
       "      <td>archive\\plantvillage-dataset\\color\\Apple___App...</td>\n",
       "      <td>1</td>\n",
       "    </tr>\n",
       "    <tr>\n",
       "      <th>2</th>\n",
       "      <td>archive\\plantvillage-dataset\\color\\Apple___App...</td>\n",
       "      <td>1</td>\n",
       "    </tr>\n",
       "    <tr>\n",
       "      <th>3</th>\n",
       "      <td>archive\\plantvillage-dataset\\color\\Apple___App...</td>\n",
       "      <td>1</td>\n",
       "    </tr>\n",
       "    <tr>\n",
       "      <th>4</th>\n",
       "      <td>archive\\plantvillage-dataset\\color\\Apple___App...</td>\n",
       "      <td>1</td>\n",
       "    </tr>\n",
       "  </tbody>\n",
       "</table>\n",
       "</div>"
      ],
      "text/plain": [
       "                                          image_path label\n",
       "0  archive\\plantvillage-dataset\\color\\Apple___App...     1\n",
       "1  archive\\plantvillage-dataset\\color\\Apple___App...     1\n",
       "2  archive\\plantvillage-dataset\\color\\Apple___App...     1\n",
       "3  archive\\plantvillage-dataset\\color\\Apple___App...     1\n",
       "4  archive\\plantvillage-dataset\\color\\Apple___App...     1"
      ]
     },
     "execution_count": 6,
     "metadata": {},
     "output_type": "execute_result"
    }
   ],
   "source": [
    "df = pd.DataFrame({\n",
    "    'image_path': image_paths,\n",
    "    'label': labels\n",
    "})\n",
    "\n",
    "df.head(5)"
   ]
  },
  {
   "cell_type": "code",
   "execution_count": 7,
   "metadata": {},
   "outputs": [
    {
     "name": "stdout",
     "output_type": "stream",
     "text": [
      "label\n",
      "0    1645\n",
      "1     630\n",
      "2     621\n",
      "3     275\n",
      "Name: count, dtype: int64\n"
     ]
    }
   ],
   "source": [
    "print(df['label'].value_counts())  # Counts the number of images for each label"
   ]
  },
  {
   "cell_type": "code",
   "execution_count": 8,
   "metadata": {},
   "outputs": [],
   "source": [
    "X = df['image_path']  # Your feature (image paths)\n",
    "y = df['label']"
   ]
  },
  {
   "cell_type": "code",
   "execution_count": 9,
   "metadata": {},
   "outputs": [
    {
     "name": "stdout",
     "output_type": "stream",
     "text": [
      "Training samples: 2028, Validation samples: 508, Test samples: 635\n"
     ]
    }
   ],
   "source": [
    "from sklearn.model_selection import train_test_split\n",
    "\n",
    "# First, split into training+validation and test sets\n",
    "X_train_val, X_test, y_train_val, y_test = train_test_split(\n",
    "    X, y, test_size=0.2, stratify=y, random_state=42\n",
    ")\n",
    "\n",
    "# Then split the training+validation set into training and validation sets\n",
    "X_train, X_val, y_train, y_val = train_test_split(\n",
    "    X_train_val, y_train_val, test_size=0.2, stratify=y_train_val, random_state=42\n",
    ")\n",
    "\n",
    "\n",
    "# Create DataFrames for each split\n",
    "df_train = pd.DataFrame({'image_path': X_train, 'label': y_train})\n",
    "df_val = pd.DataFrame({'image_path': X_val, 'label': y_val})\n",
    "df_test = pd.DataFrame({'image_path': X_test, 'label': y_test})\n",
    "\n",
    "# Print the sample counts\n",
    "print(f\"Training samples: {len(df_train)}, Validation samples: {len(df_val)}, Test samples: {len(df_test)}\")"
   ]
  },
  {
   "cell_type": "code",
   "execution_count": 11,
   "metadata": {},
   "outputs": [],
   "source": [
    "from imblearn.over_sampling import RandomOverSampler  # For oversampling\n",
    "\n",
    "# Oversampling to handle class imbalance in training data\n",
    "ros = RandomOverSampler(random_state=42)\n",
    "X_train_resampled, y_train_resampled = ros.fit_resample(np.array(X_train).reshape(-1, 1), y_train)\n",
    "\n",
    "# Create a new DataFrame with resampled data\n",
    "df_train_resampled = pd.DataFrame({\n",
    "    'image_path': X_train_resampled.flatten(),\n",
    "    'label': y_train_resampled\n",
    "})"
   ]
  },
  {
   "cell_type": "code",
   "execution_count": 12,
   "metadata": {},
   "outputs": [
    {
     "name": "stdout",
     "output_type": "stream",
     "text": [
      "Training Class Distribution:\n",
      " label\n",
      "0    1052\n",
      "1     403\n",
      "2     397\n",
      "3     176\n",
      "Name: count, dtype: int64\n",
      "Resampled Training Class Distribution:\n",
      " label\n",
      "0    1052\n",
      "1    1052\n",
      "2    1052\n",
      "3    1052\n",
      "Name: count, dtype: int64\n",
      "\n",
      "Validation Class Distribution:\n",
      " label\n",
      "0    263\n",
      "1    101\n",
      "2    100\n",
      "3     44\n",
      "Name: count, dtype: int64\n",
      "\n",
      "Test Class Distribution:\n",
      " label\n",
      "0    330\n",
      "1    126\n",
      "2    124\n",
      "3     55\n",
      "Name: count, dtype: int64\n"
     ]
    }
   ],
   "source": [
    "train_class_distribution = y_train.value_counts()\n",
    "resampled_train_class_distribution = y_train_resampled.value_counts()\n",
    "val_class_distribution = y_val.value_counts()\n",
    "test_class_distribution = y_test.value_counts()\n",
    "\n",
    "print(\"Training Class Distribution:\\n\", train_class_distribution)\n",
    "print(\"Resampled Training Class Distribution:\\n\", resampled_train_class_distribution)\n",
    "print(\"\\nValidation Class Distribution:\\n\", val_class_distribution)\n",
    "print(\"\\nTest Class Distribution:\\n\", test_class_distribution)"
   ]
  },
  {
   "cell_type": "code",
   "execution_count": 13,
   "metadata": {},
   "outputs": [
    {
     "name": "stdout",
     "output_type": "stream",
     "text": [
      "Class Weights: {0: 1.0, 1: 1.0, 2: 1.0, 3: 1.0}\n"
     ]
    }
   ],
   "source": [
    "from sklearn.utils.class_weight import compute_class_weight\n",
    "\n",
    "# Calculate class weights for the training set\n",
    "class_weights = compute_class_weight('balanced', classes=np.unique(y_train_resampled), y=y_train_resampled)\n",
    "class_weights = dict(enumerate(class_weights))\n",
    "\n",
    "print(\"Class Weights:\", class_weights)"
   ]
  },
  {
   "cell_type": "code",
   "execution_count": 14,
   "metadata": {},
   "outputs": [
    {
     "name": "stdout",
     "output_type": "stream",
     "text": [
      "Found 4208 validated image filenames belonging to 4 classes.\n",
      "Found 508 validated image filenames belonging to 4 classes.\n",
      "Found 635 validated image filenames belonging to 4 classes.\n"
     ]
    }
   ],
   "source": [
    "from tensorflow.keras.preprocessing.image import ImageDataGenerator\n",
    "\n",
    "\n",
    "# Data Augmentation with added options\n",
    "data_augmentation = ImageDataGenerator(\n",
    "    rescale=1./255,\n",
    "    rotation_range=30,  # Increased rotation range\n",
    "    width_shift_range=0.3,  # Increased width shift\n",
    "    height_shift_range=0.3,  # Increased height shift\n",
    "    brightness_range=[0.8, 1.2],  # Brightness augmentation\n",
    "    zoom_range=0.2,  # Added zoom\n",
    "    horizontal_flip=True,\n",
    "    fill_mode='nearest'\n",
    ")\n",
    "\n",
    "# Generators\n",
    "train_generator = data_augmentation.flow_from_dataframe(\n",
    "    dataframe=df_train_resampled,\n",
    "    x_col='image_path',\n",
    "    y_col='label',\n",
    "    target_size=(224, 224),\n",
    "    batch_size=32,  # Increased batch size\n",
    "    class_mode='sparse'\n",
    ")\n",
    "\n",
    "val_datagen = ImageDataGenerator(rescale=1./255)\n",
    "val_generator = val_datagen.flow_from_dataframe(\n",
    "    dataframe=df_val,\n",
    "    x_col='image_path',\n",
    "    y_col='label',\n",
    "    target_size=(224, 224),\n",
    "    batch_size=32,\n",
    "    class_mode='sparse'\n",
    ")\n",
    "\n",
    "test_datagen = ImageDataGenerator(rescale=1./255)\n",
    "test_generator = test_datagen.flow_from_dataframe(\n",
    "    dataframe=df_test,\n",
    "    x_col='image_path',\n",
    "    y_col='label',\n",
    "    target_size=(224, 224),\n",
    "    batch_size=32,\n",
    "    class_mode='sparse',\n",
    "    shuffle=False\n",
    ")"
   ]
  },
  {
   "cell_type": "code",
   "execution_count": 15,
   "metadata": {},
   "outputs": [
    {
     "name": "stdout",
     "output_type": "stream",
     "text": [
      "Downloading data from https://storage.googleapis.com/tensorflow/keras-applications/resnet/resnet50_weights_tf_dim_ordering_tf_kernels_notop.h5\n",
      "\u001b[1m94765736/94765736\u001b[0m \u001b[32m━━━━━━━━━━━━━━━━━━━━\u001b[0m\u001b[37m\u001b[0m \u001b[1m10s\u001b[0m 0us/step\n",
      "Downloading data from https://storage.googleapis.com/tensorflow/keras-applications/inception_v3/inception_v3_weights_tf_dim_ordering_tf_kernels_notop.h5\n",
      "\u001b[1m87910968/87910968\u001b[0m \u001b[32m━━━━━━━━━━━━━━━━━━━━\u001b[0m\u001b[37m\u001b[0m \u001b[1m8s\u001b[0m 0us/step\n",
      "Downloading data from https://storage.googleapis.com/keras-applications/efficientnetb0_notop.h5\n",
      "\u001b[1m16705208/16705208\u001b[0m \u001b[32m━━━━━━━━━━━━━━━━━━━━\u001b[0m\u001b[37m\u001b[0m \u001b[1m3s\u001b[0m 0us/step\n"
     ]
    },
    {
     "data": {
      "text/html": [
       "<pre style=\"white-space:pre;overflow-x:auto;line-height:normal;font-family:Menlo,'DejaVu Sans Mono',consolas,'Courier New',monospace\"><span style=\"font-weight: bold\">Model: \"functional\"</span>\n",
       "</pre>\n"
      ],
      "text/plain": [
       "\u001b[1mModel: \"functional\"\u001b[0m\n"
      ]
     },
     "metadata": {},
     "output_type": "display_data"
    },
    {
     "data": {
      "text/html": [
       "<pre style=\"white-space:pre;overflow-x:auto;line-height:normal;font-family:Menlo,'DejaVu Sans Mono',consolas,'Courier New',monospace\">┏━━━━━━━━━━━━━━━━━━━━━┳━━━━━━━━━━━━━━━━━━━┳━━━━━━━━━━━━┳━━━━━━━━━━━━━━━━━━━┓\n",
       "┃<span style=\"font-weight: bold\"> Layer (type)        </span>┃<span style=\"font-weight: bold\"> Output Shape      </span>┃<span style=\"font-weight: bold\">    Param # </span>┃<span style=\"font-weight: bold\"> Connected to      </span>┃\n",
       "┡━━━━━━━━━━━━━━━━━━━━━╇━━━━━━━━━━━━━━━━━━━╇━━━━━━━━━━━━╇━━━━━━━━━━━━━━━━━━━┩\n",
       "│ input_layer_3       │ (<span style=\"color: #00d7ff; text-decoration-color: #00d7ff\">None</span>, <span style=\"color: #00af00; text-decoration-color: #00af00\">224</span>, <span style=\"color: #00af00; text-decoration-color: #00af00\">224</span>,  │          <span style=\"color: #00af00; text-decoration-color: #00af00\">0</span> │ -                 │\n",
       "│ (<span style=\"color: #0087ff; text-decoration-color: #0087ff\">InputLayer</span>)        │ <span style=\"color: #00af00; text-decoration-color: #00af00\">3</span>)                │            │                   │\n",
       "├─────────────────────┼───────────────────┼────────────┼───────────────────┤\n",
       "│ resnet50            │ (<span style=\"color: #00d7ff; text-decoration-color: #00d7ff\">None</span>, <span style=\"color: #00af00; text-decoration-color: #00af00\">7</span>, <span style=\"color: #00af00; text-decoration-color: #00af00\">7</span>,      │ <span style=\"color: #00af00; text-decoration-color: #00af00\">23,587,712</span> │ input_layer_3[<span style=\"color: #00af00; text-decoration-color: #00af00\">0</span>]… │\n",
       "│ (<span style=\"color: #0087ff; text-decoration-color: #0087ff\">Functional</span>)        │ <span style=\"color: #00af00; text-decoration-color: #00af00\">2048</span>)             │            │                   │\n",
       "├─────────────────────┼───────────────────┼────────────┼───────────────────┤\n",
       "│ inception_v3        │ (<span style=\"color: #00d7ff; text-decoration-color: #00d7ff\">None</span>, <span style=\"color: #00af00; text-decoration-color: #00af00\">5</span>, <span style=\"color: #00af00; text-decoration-color: #00af00\">5</span>,      │ <span style=\"color: #00af00; text-decoration-color: #00af00\">21,802,784</span> │ input_layer_3[<span style=\"color: #00af00; text-decoration-color: #00af00\">0</span>]… │\n",
       "│ (<span style=\"color: #0087ff; text-decoration-color: #0087ff\">Functional</span>)        │ <span style=\"color: #00af00; text-decoration-color: #00af00\">2048</span>)             │            │                   │\n",
       "├─────────────────────┼───────────────────┼────────────┼───────────────────┤\n",
       "│ efficientnetb0      │ (<span style=\"color: #00d7ff; text-decoration-color: #00d7ff\">None</span>, <span style=\"color: #00af00; text-decoration-color: #00af00\">7</span>, <span style=\"color: #00af00; text-decoration-color: #00af00\">7</span>,      │  <span style=\"color: #00af00; text-decoration-color: #00af00\">4,049,571</span> │ input_layer_3[<span style=\"color: #00af00; text-decoration-color: #00af00\">0</span>]… │\n",
       "│ (<span style=\"color: #0087ff; text-decoration-color: #0087ff\">Functional</span>)        │ <span style=\"color: #00af00; text-decoration-color: #00af00\">1280</span>)             │            │                   │\n",
       "├─────────────────────┼───────────────────┼────────────┼───────────────────┤\n",
       "│ max_pooling2d_4     │ (<span style=\"color: #00d7ff; text-decoration-color: #00d7ff\">None</span>, <span style=\"color: #00af00; text-decoration-color: #00af00\">3</span>, <span style=\"color: #00af00; text-decoration-color: #00af00\">3</span>,      │          <span style=\"color: #00af00; text-decoration-color: #00af00\">0</span> │ resnet50[<span style=\"color: #00af00; text-decoration-color: #00af00\">0</span>][<span style=\"color: #00af00; text-decoration-color: #00af00\">0</span>]    │\n",
       "│ (<span style=\"color: #0087ff; text-decoration-color: #0087ff\">MaxPooling2D</span>)      │ <span style=\"color: #00af00; text-decoration-color: #00af00\">2048</span>)             │            │                   │\n",
       "├─────────────────────┼───────────────────┼────────────┼───────────────────┤\n",
       "│ max_pooling2d_5     │ (<span style=\"color: #00d7ff; text-decoration-color: #00d7ff\">None</span>, <span style=\"color: #00af00; text-decoration-color: #00af00\">2</span>, <span style=\"color: #00af00; text-decoration-color: #00af00\">2</span>,      │          <span style=\"color: #00af00; text-decoration-color: #00af00\">0</span> │ inception_v3[<span style=\"color: #00af00; text-decoration-color: #00af00\">0</span>][<span style=\"color: #00af00; text-decoration-color: #00af00\">…</span> │\n",
       "│ (<span style=\"color: #0087ff; text-decoration-color: #0087ff\">MaxPooling2D</span>)      │ <span style=\"color: #00af00; text-decoration-color: #00af00\">2048</span>)             │            │                   │\n",
       "├─────────────────────┼───────────────────┼────────────┼───────────────────┤\n",
       "│ max_pooling2d_6     │ (<span style=\"color: #00d7ff; text-decoration-color: #00d7ff\">None</span>, <span style=\"color: #00af00; text-decoration-color: #00af00\">3</span>, <span style=\"color: #00af00; text-decoration-color: #00af00\">3</span>,      │          <span style=\"color: #00af00; text-decoration-color: #00af00\">0</span> │ efficientnetb0[<span style=\"color: #00af00; text-decoration-color: #00af00\">0</span>… │\n",
       "│ (<span style=\"color: #0087ff; text-decoration-color: #0087ff\">MaxPooling2D</span>)      │ <span style=\"color: #00af00; text-decoration-color: #00af00\">1280</span>)             │            │                   │\n",
       "├─────────────────────┼───────────────────┼────────────┼───────────────────┤\n",
       "│ global_max_pooling… │ (<span style=\"color: #00d7ff; text-decoration-color: #00d7ff\">None</span>, <span style=\"color: #00af00; text-decoration-color: #00af00\">2048</span>)      │          <span style=\"color: #00af00; text-decoration-color: #00af00\">0</span> │ max_pooling2d_4[<span style=\"color: #00af00; text-decoration-color: #00af00\">…</span> │\n",
       "│ (<span style=\"color: #0087ff; text-decoration-color: #0087ff\">GlobalMaxPooling2…</span> │                   │            │                   │\n",
       "├─────────────────────┼───────────────────┼────────────┼───────────────────┤\n",
       "│ global_max_pooling… │ (<span style=\"color: #00d7ff; text-decoration-color: #00d7ff\">None</span>, <span style=\"color: #00af00; text-decoration-color: #00af00\">2048</span>)      │          <span style=\"color: #00af00; text-decoration-color: #00af00\">0</span> │ max_pooling2d_5[<span style=\"color: #00af00; text-decoration-color: #00af00\">…</span> │\n",
       "│ (<span style=\"color: #0087ff; text-decoration-color: #0087ff\">GlobalMaxPooling2…</span> │                   │            │                   │\n",
       "├─────────────────────┼───────────────────┼────────────┼───────────────────┤\n",
       "│ global_max_pooling… │ (<span style=\"color: #00d7ff; text-decoration-color: #00d7ff\">None</span>, <span style=\"color: #00af00; text-decoration-color: #00af00\">1280</span>)      │          <span style=\"color: #00af00; text-decoration-color: #00af00\">0</span> │ max_pooling2d_6[<span style=\"color: #00af00; text-decoration-color: #00af00\">…</span> │\n",
       "│ (<span style=\"color: #0087ff; text-decoration-color: #0087ff\">GlobalMaxPooling2…</span> │                   │            │                   │\n",
       "├─────────────────────┼───────────────────┼────────────┼───────────────────┤\n",
       "│ concatenate_2       │ (<span style=\"color: #00d7ff; text-decoration-color: #00d7ff\">None</span>, <span style=\"color: #00af00; text-decoration-color: #00af00\">5376</span>)      │          <span style=\"color: #00af00; text-decoration-color: #00af00\">0</span> │ global_max_pooli… │\n",
       "│ (<span style=\"color: #0087ff; text-decoration-color: #0087ff\">Concatenate</span>)       │                   │            │ global_max_pooli… │\n",
       "│                     │                   │            │ global_max_pooli… │\n",
       "├─────────────────────┼───────────────────┼────────────┼───────────────────┤\n",
       "│ dense (<span style=\"color: #0087ff; text-decoration-color: #0087ff\">Dense</span>)       │ (<span style=\"color: #00d7ff; text-decoration-color: #00d7ff\">None</span>, <span style=\"color: #00af00; text-decoration-color: #00af00\">512</span>)       │  <span style=\"color: #00af00; text-decoration-color: #00af00\">2,753,024</span> │ concatenate_2[<span style=\"color: #00af00; text-decoration-color: #00af00\">0</span>]… │\n",
       "├─────────────────────┼───────────────────┼────────────┼───────────────────┤\n",
       "│ dropout (<span style=\"color: #0087ff; text-decoration-color: #0087ff\">Dropout</span>)   │ (<span style=\"color: #00d7ff; text-decoration-color: #00d7ff\">None</span>, <span style=\"color: #00af00; text-decoration-color: #00af00\">512</span>)       │          <span style=\"color: #00af00; text-decoration-color: #00af00\">0</span> │ dense[<span style=\"color: #00af00; text-decoration-color: #00af00\">0</span>][<span style=\"color: #00af00; text-decoration-color: #00af00\">0</span>]       │\n",
       "├─────────────────────┼───────────────────┼────────────┼───────────────────┤\n",
       "│ dense_1 (<span style=\"color: #0087ff; text-decoration-color: #0087ff\">Dense</span>)     │ (<span style=\"color: #00d7ff; text-decoration-color: #00d7ff\">None</span>, <span style=\"color: #00af00; text-decoration-color: #00af00\">4</span>)         │      <span style=\"color: #00af00; text-decoration-color: #00af00\">2,052</span> │ dropout[<span style=\"color: #00af00; text-decoration-color: #00af00\">0</span>][<span style=\"color: #00af00; text-decoration-color: #00af00\">0</span>]     │\n",
       "└─────────────────────┴───────────────────┴────────────┴───────────────────┘\n",
       "</pre>\n"
      ],
      "text/plain": [
       "┏━━━━━━━━━━━━━━━━━━━━━┳━━━━━━━━━━━━━━━━━━━┳━━━━━━━━━━━━┳━━━━━━━━━━━━━━━━━━━┓\n",
       "┃\u001b[1m \u001b[0m\u001b[1mLayer (type)       \u001b[0m\u001b[1m \u001b[0m┃\u001b[1m \u001b[0m\u001b[1mOutput Shape     \u001b[0m\u001b[1m \u001b[0m┃\u001b[1m \u001b[0m\u001b[1m   Param #\u001b[0m\u001b[1m \u001b[0m┃\u001b[1m \u001b[0m\u001b[1mConnected to     \u001b[0m\u001b[1m \u001b[0m┃\n",
       "┡━━━━━━━━━━━━━━━━━━━━━╇━━━━━━━━━━━━━━━━━━━╇━━━━━━━━━━━━╇━━━━━━━━━━━━━━━━━━━┩\n",
       "│ input_layer_3       │ (\u001b[38;5;45mNone\u001b[0m, \u001b[38;5;34m224\u001b[0m, \u001b[38;5;34m224\u001b[0m,  │          \u001b[38;5;34m0\u001b[0m │ -                 │\n",
       "│ (\u001b[38;5;33mInputLayer\u001b[0m)        │ \u001b[38;5;34m3\u001b[0m)                │            │                   │\n",
       "├─────────────────────┼───────────────────┼────────────┼───────────────────┤\n",
       "│ resnet50            │ (\u001b[38;5;45mNone\u001b[0m, \u001b[38;5;34m7\u001b[0m, \u001b[38;5;34m7\u001b[0m,      │ \u001b[38;5;34m23,587,712\u001b[0m │ input_layer_3[\u001b[38;5;34m0\u001b[0m]… │\n",
       "│ (\u001b[38;5;33mFunctional\u001b[0m)        │ \u001b[38;5;34m2048\u001b[0m)             │            │                   │\n",
       "├─────────────────────┼───────────────────┼────────────┼───────────────────┤\n",
       "│ inception_v3        │ (\u001b[38;5;45mNone\u001b[0m, \u001b[38;5;34m5\u001b[0m, \u001b[38;5;34m5\u001b[0m,      │ \u001b[38;5;34m21,802,784\u001b[0m │ input_layer_3[\u001b[38;5;34m0\u001b[0m]… │\n",
       "│ (\u001b[38;5;33mFunctional\u001b[0m)        │ \u001b[38;5;34m2048\u001b[0m)             │            │                   │\n",
       "├─────────────────────┼───────────────────┼────────────┼───────────────────┤\n",
       "│ efficientnetb0      │ (\u001b[38;5;45mNone\u001b[0m, \u001b[38;5;34m7\u001b[0m, \u001b[38;5;34m7\u001b[0m,      │  \u001b[38;5;34m4,049,571\u001b[0m │ input_layer_3[\u001b[38;5;34m0\u001b[0m]… │\n",
       "│ (\u001b[38;5;33mFunctional\u001b[0m)        │ \u001b[38;5;34m1280\u001b[0m)             │            │                   │\n",
       "├─────────────────────┼───────────────────┼────────────┼───────────────────┤\n",
       "│ max_pooling2d_4     │ (\u001b[38;5;45mNone\u001b[0m, \u001b[38;5;34m3\u001b[0m, \u001b[38;5;34m3\u001b[0m,      │          \u001b[38;5;34m0\u001b[0m │ resnet50[\u001b[38;5;34m0\u001b[0m][\u001b[38;5;34m0\u001b[0m]    │\n",
       "│ (\u001b[38;5;33mMaxPooling2D\u001b[0m)      │ \u001b[38;5;34m2048\u001b[0m)             │            │                   │\n",
       "├─────────────────────┼───────────────────┼────────────┼───────────────────┤\n",
       "│ max_pooling2d_5     │ (\u001b[38;5;45mNone\u001b[0m, \u001b[38;5;34m2\u001b[0m, \u001b[38;5;34m2\u001b[0m,      │          \u001b[38;5;34m0\u001b[0m │ inception_v3[\u001b[38;5;34m0\u001b[0m][\u001b[38;5;34m…\u001b[0m │\n",
       "│ (\u001b[38;5;33mMaxPooling2D\u001b[0m)      │ \u001b[38;5;34m2048\u001b[0m)             │            │                   │\n",
       "├─────────────────────┼───────────────────┼────────────┼───────────────────┤\n",
       "│ max_pooling2d_6     │ (\u001b[38;5;45mNone\u001b[0m, \u001b[38;5;34m3\u001b[0m, \u001b[38;5;34m3\u001b[0m,      │          \u001b[38;5;34m0\u001b[0m │ efficientnetb0[\u001b[38;5;34m0\u001b[0m… │\n",
       "│ (\u001b[38;5;33mMaxPooling2D\u001b[0m)      │ \u001b[38;5;34m1280\u001b[0m)             │            │                   │\n",
       "├─────────────────────┼───────────────────┼────────────┼───────────────────┤\n",
       "│ global_max_pooling… │ (\u001b[38;5;45mNone\u001b[0m, \u001b[38;5;34m2048\u001b[0m)      │          \u001b[38;5;34m0\u001b[0m │ max_pooling2d_4[\u001b[38;5;34m…\u001b[0m │\n",
       "│ (\u001b[38;5;33mGlobalMaxPooling2…\u001b[0m │                   │            │                   │\n",
       "├─────────────────────┼───────────────────┼────────────┼───────────────────┤\n",
       "│ global_max_pooling… │ (\u001b[38;5;45mNone\u001b[0m, \u001b[38;5;34m2048\u001b[0m)      │          \u001b[38;5;34m0\u001b[0m │ max_pooling2d_5[\u001b[38;5;34m…\u001b[0m │\n",
       "│ (\u001b[38;5;33mGlobalMaxPooling2…\u001b[0m │                   │            │                   │\n",
       "├─────────────────────┼───────────────────┼────────────┼───────────────────┤\n",
       "│ global_max_pooling… │ (\u001b[38;5;45mNone\u001b[0m, \u001b[38;5;34m1280\u001b[0m)      │          \u001b[38;5;34m0\u001b[0m │ max_pooling2d_6[\u001b[38;5;34m…\u001b[0m │\n",
       "│ (\u001b[38;5;33mGlobalMaxPooling2…\u001b[0m │                   │            │                   │\n",
       "├─────────────────────┼───────────────────┼────────────┼───────────────────┤\n",
       "│ concatenate_2       │ (\u001b[38;5;45mNone\u001b[0m, \u001b[38;5;34m5376\u001b[0m)      │          \u001b[38;5;34m0\u001b[0m │ global_max_pooli… │\n",
       "│ (\u001b[38;5;33mConcatenate\u001b[0m)       │                   │            │ global_max_pooli… │\n",
       "│                     │                   │            │ global_max_pooli… │\n",
       "├─────────────────────┼───────────────────┼────────────┼───────────────────┤\n",
       "│ dense (\u001b[38;5;33mDense\u001b[0m)       │ (\u001b[38;5;45mNone\u001b[0m, \u001b[38;5;34m512\u001b[0m)       │  \u001b[38;5;34m2,753,024\u001b[0m │ concatenate_2[\u001b[38;5;34m0\u001b[0m]… │\n",
       "├─────────────────────┼───────────────────┼────────────┼───────────────────┤\n",
       "│ dropout (\u001b[38;5;33mDropout\u001b[0m)   │ (\u001b[38;5;45mNone\u001b[0m, \u001b[38;5;34m512\u001b[0m)       │          \u001b[38;5;34m0\u001b[0m │ dense[\u001b[38;5;34m0\u001b[0m][\u001b[38;5;34m0\u001b[0m]       │\n",
       "├─────────────────────┼───────────────────┼────────────┼───────────────────┤\n",
       "│ dense_1 (\u001b[38;5;33mDense\u001b[0m)     │ (\u001b[38;5;45mNone\u001b[0m, \u001b[38;5;34m4\u001b[0m)         │      \u001b[38;5;34m2,052\u001b[0m │ dropout[\u001b[38;5;34m0\u001b[0m][\u001b[38;5;34m0\u001b[0m]     │\n",
       "└─────────────────────┴───────────────────┴────────────┴───────────────────┘\n"
      ]
     },
     "metadata": {},
     "output_type": "display_data"
    },
    {
     "data": {
      "text/html": [
       "<pre style=\"white-space:pre;overflow-x:auto;line-height:normal;font-family:Menlo,'DejaVu Sans Mono',consolas,'Courier New',monospace\"><span style=\"font-weight: bold\"> Total params: </span><span style=\"color: #00af00; text-decoration-color: #00af00\">52,195,143</span> (199.11 MB)\n",
       "</pre>\n"
      ],
      "text/plain": [
       "\u001b[1m Total params: \u001b[0m\u001b[38;5;34m52,195,143\u001b[0m (199.11 MB)\n"
      ]
     },
     "metadata": {},
     "output_type": "display_data"
    },
    {
     "data": {
      "text/html": [
       "<pre style=\"white-space:pre;overflow-x:auto;line-height:normal;font-family:Menlo,'DejaVu Sans Mono',consolas,'Courier New',monospace\"><span style=\"font-weight: bold\"> Trainable params: </span><span style=\"color: #00af00; text-decoration-color: #00af00\">14,972,724</span> (57.12 MB)\n",
       "</pre>\n"
      ],
      "text/plain": [
       "\u001b[1m Trainable params: \u001b[0m\u001b[38;5;34m14,972,724\u001b[0m (57.12 MB)\n"
      ]
     },
     "metadata": {},
     "output_type": "display_data"
    },
    {
     "data": {
      "text/html": [
       "<pre style=\"white-space:pre;overflow-x:auto;line-height:normal;font-family:Menlo,'DejaVu Sans Mono',consolas,'Courier New',monospace\"><span style=\"font-weight: bold\"> Non-trainable params: </span><span style=\"color: #00af00; text-decoration-color: #00af00\">37,222,419</span> (141.99 MB)\n",
       "</pre>\n"
      ],
      "text/plain": [
       "\u001b[1m Non-trainable params: \u001b[0m\u001b[38;5;34m37,222,419\u001b[0m (141.99 MB)\n"
      ]
     },
     "metadata": {},
     "output_type": "display_data"
    }
   ],
   "source": [
    "from tensorflow.keras.applications import ResNet50, InceptionV3, EfficientNetB0\n",
    "from tensorflow.keras.layers import Input, Concatenate, Dense, GlobalAveragePooling2D, MaxPooling2D, Dropout, GlobalMaxPooling2D\n",
    "from tensorflow.keras.models import Model\n",
    "from tensorflow.keras.optimizers import Adam\n",
    "from tensorflow.keras.callbacks import ModelCheckpoint, EarlyStopping\n",
    "from tensorflow.keras.regularizers import l2\n",
    "\n",
    "# Load pre-trained ResNet50\n",
    "resnet_base = ResNet50(weights='imagenet', include_top=False, input_shape=(224, 224, 3))\n",
    "resnet_base.trainable = False  # Freeze ResNet50 layers\n",
    "\n",
    "# Load pre-trained InceptionV3\n",
    "inception_base = InceptionV3(weights='imagenet', include_top=False, input_shape=(224, 224, 3))\n",
    "inception_base.trainable = False  # Freeze InceptionV3 layers\n",
    "\n",
    "# Load pre-trained EfficientNetB0\n",
    "efficientnet_base = EfficientNetB0(weights='imagenet', include_top=False, input_shape=(224, 224, 3))\n",
    "efficientnet_base.trainable = False  # Freeze EfficientNetB0 layers\n",
    "\n",
    "# Define the input\n",
    "input_layer = Input(shape=(224, 224, 3))\n",
    "\n",
    "# Extract features from ResNet50, InceptionV3, and EfficientNetB0\n",
    "resnet_features = resnet_base(input_layer)\n",
    "resnet_features = MaxPooling2D(pool_size=(2, 2))(resnet_features)  # Apply MaxPooling\n",
    "resnet_features = GlobalMaxPooling2D()(resnet_features)\n",
    "\n",
    "inception_features = inception_base(input_layer)\n",
    "inception_features = MaxPooling2D(pool_size=(2, 2))(inception_features)  # Apply MaxPooling\n",
    "inception_features = GlobalMaxPooling2D()(inception_features)\n",
    "\n",
    "efficientnet_features = efficientnet_base(input_layer)\n",
    "efficientnet_features = MaxPooling2D(pool_size=(2, 2))(efficientnet_features)  # Apply MaxPooling\n",
    "efficientnet_features = GlobalMaxPooling2D()(efficientnet_features)\n",
    "\n",
    "# Concatenate the features\n",
    "combined_features = Concatenate()([resnet_features, inception_features, efficientnet_features])\n",
    "\n",
    "# Add a fully connected layer\n",
    "fc_layer = Dense(512, activation='relu', kernel_regularizer=l2(0.001))(combined_features)  # Increase size of FC layer\n",
    "dropout_layer = Dropout(0.5)(fc_layer)  # Dropout for regularization\n",
    "\n",
    "# Output layer\n",
    "output_layer = Dense(len(np.unique(y_train_resampled)), activation='softmax')(dropout_layer)\n",
    "\n",
    "# Build the model\n",
    "ensemble_model = Model(inputs=input_layer, outputs=output_layer)\n",
    "\n",
    "# Unfreeze more layers of ResNet50, InceptionV3, and EfficientNetB0\n",
    "for layer in resnet_base.layers[-20:]:\n",
    "    layer.trainable = True\n",
    "\n",
    "for layer in inception_base.layers[-20:]:\n",
    "    layer.trainable = True\n",
    "\n",
    "for layer in efficientnet_base.layers[-20:]:\n",
    "    layer.trainable = True\n",
    "\n",
    "# Compile the model with class weights\n",
    "fine_tune_learning_rate = 1e-5  # Lower learning rate for fine-tuning\n",
    "ensemble_model.compile(optimizer=Adam(learning_rate=fine_tune_learning_rate),\n",
    "                       loss='sparse_categorical_crossentropy',\n",
    "                       metrics=['accuracy'])\n",
    "\n",
    "ensemble_model.summary()"
   ]
  },
  {
   "cell_type": "code",
   "execution_count": 16,
   "metadata": {},
   "outputs": [
    {
     "name": "stderr",
     "output_type": "stream",
     "text": [
      "d:\\yuvraj\\plant village\\myenv\\Lib\\site-packages\\keras\\src\\trainers\\data_adapters\\py_dataset_adapter.py:121: UserWarning: Your `PyDataset` class should call `super().__init__(**kwargs)` in its constructor. `**kwargs` can include `workers`, `use_multiprocessing`, `max_queue_size`. Do not pass these arguments to `fit()`, as they will be ignored.\n",
      "  self._warn_if_super_not_called()\n"
     ]
    },
    {
     "name": "stdout",
     "output_type": "stream",
     "text": [
      "Epoch 1/50\n",
      "\u001b[1m132/132\u001b[0m \u001b[32m━━━━━━━━━━━━━━━━━━━━\u001b[0m\u001b[37m\u001b[0m \u001b[1m0s\u001b[0m 1s/step - accuracy: 0.3508 - loss: 3.3745\n",
      "Epoch 1: val_loss improved from inf to 1.84718, saving model to best_model_loss.keras\n",
      "\n",
      "Epoch 1: val_accuracy improved from -inf to 0.65945, saving model to best_model_accuracy.keras\n",
      "\u001b[1m132/132\u001b[0m \u001b[32m━━━━━━━━━━━━━━━━━━━━\u001b[0m\u001b[37m\u001b[0m \u001b[1m238s\u001b[0m 2s/step - accuracy: 0.3515 - loss: 3.3696 - val_accuracy: 0.6594 - val_loss: 1.8472\n",
      "Epoch 2/50\n",
      "\u001b[1m132/132\u001b[0m \u001b[32m━━━━━━━━━━━━━━━━━━━━\u001b[0m\u001b[37m\u001b[0m \u001b[1m0s\u001b[0m 1s/step - accuracy: 0.6642 - loss: 1.8141\n",
      "Epoch 2: val_loss improved from 1.84718 to 1.66957, saving model to best_model_loss.keras\n",
      "\n",
      "Epoch 2: val_accuracy improved from 0.65945 to 0.73228, saving model to best_model_accuracy.keras\n",
      "\u001b[1m132/132\u001b[0m \u001b[32m━━━━━━━━━━━━━━━━━━━━\u001b[0m\u001b[37m\u001b[0m \u001b[1m215s\u001b[0m 2s/step - accuracy: 0.6642 - loss: 1.8138 - val_accuracy: 0.7323 - val_loss: 1.6696\n",
      "Epoch 3/50\n",
      "\u001b[1m132/132\u001b[0m \u001b[32m━━━━━━━━━━━━━━━━━━━━\u001b[0m\u001b[37m\u001b[0m \u001b[1m0s\u001b[0m 1s/step - accuracy: 0.7172 - loss: 1.6300\n",
      "Epoch 3: val_loss improved from 1.66957 to 1.41074, saving model to best_model_loss.keras\n",
      "\n",
      "Epoch 3: val_accuracy improved from 0.73228 to 0.83268, saving model to best_model_accuracy.keras\n",
      "\u001b[1m132/132\u001b[0m \u001b[32m━━━━━━━━━━━━━━━━━━━━\u001b[0m\u001b[37m\u001b[0m \u001b[1m218s\u001b[0m 2s/step - accuracy: 0.7174 - loss: 1.6299 - val_accuracy: 0.8327 - val_loss: 1.4107\n",
      "Epoch 4/50\n",
      "\u001b[1m132/132\u001b[0m \u001b[32m━━━━━━━━━━━━━━━━━━━━\u001b[0m\u001b[37m\u001b[0m \u001b[1m0s\u001b[0m 1s/step - accuracy: 0.7528 - loss: 1.5409\n",
      "Epoch 4: val_loss improved from 1.41074 to 1.26486, saving model to best_model_loss.keras\n",
      "\n",
      "Epoch 4: val_accuracy improved from 0.83268 to 0.89567, saving model to best_model_accuracy.keras\n",
      "\u001b[1m132/132\u001b[0m \u001b[32m━━━━━━━━━━━━━━━━━━━━\u001b[0m\u001b[37m\u001b[0m \u001b[1m213s\u001b[0m 2s/step - accuracy: 0.7529 - loss: 1.5406 - val_accuracy: 0.8957 - val_loss: 1.2649\n",
      "Epoch 5/50\n",
      "\u001b[1m132/132\u001b[0m \u001b[32m━━━━━━━━━━━━━━━━━━━━\u001b[0m\u001b[37m\u001b[0m \u001b[1m0s\u001b[0m 8s/step - accuracy: 0.7853 - loss: 1.4628\n",
      "Epoch 5: val_loss did not improve from 1.26486\n",
      "\n",
      "Epoch 5: val_accuracy did not improve from 0.89567\n",
      "\u001b[1m132/132\u001b[0m \u001b[32m━━━━━━━━━━━━━━━━━━━━\u001b[0m\u001b[37m\u001b[0m \u001b[1m1109s\u001b[0m 8s/step - accuracy: 0.7854 - loss: 1.4626 - val_accuracy: 0.8563 - val_loss: 1.2923\n",
      "Epoch 6/50\n",
      "\u001b[1m132/132\u001b[0m \u001b[32m━━━━━━━━━━━━━━━━━━━━\u001b[0m\u001b[37m\u001b[0m \u001b[1m0s\u001b[0m 1s/step - accuracy: 0.8178 - loss: 1.3946\n",
      "Epoch 6: val_loss improved from 1.26486 to 1.15054, saving model to best_model_loss.keras\n",
      "\n",
      "Epoch 6: val_accuracy improved from 0.89567 to 0.90748, saving model to best_model_accuracy.keras\n",
      "\u001b[1m132/132\u001b[0m \u001b[32m━━━━━━━━━━━━━━━━━━━━\u001b[0m\u001b[37m\u001b[0m \u001b[1m209s\u001b[0m 2s/step - accuracy: 0.8178 - loss: 1.3945 - val_accuracy: 0.9075 - val_loss: 1.1505\n",
      "Epoch 7/50\n",
      "\u001b[1m132/132\u001b[0m \u001b[32m━━━━━━━━━━━━━━━━━━━━\u001b[0m\u001b[37m\u001b[0m \u001b[1m0s\u001b[0m 1s/step - accuracy: 0.8234 - loss: 1.3676\n",
      "Epoch 7: val_loss improved from 1.15054 to 1.12267, saving model to best_model_loss.keras\n",
      "\n",
      "Epoch 7: val_accuracy improved from 0.90748 to 0.93307, saving model to best_model_accuracy.keras\n",
      "\u001b[1m132/132\u001b[0m \u001b[32m━━━━━━━━━━━━━━━━━━━━\u001b[0m\u001b[37m\u001b[0m \u001b[1m222s\u001b[0m 2s/step - accuracy: 0.8235 - loss: 1.3674 - val_accuracy: 0.9331 - val_loss: 1.1227\n",
      "Epoch 8/50\n",
      "\u001b[1m132/132\u001b[0m \u001b[32m━━━━━━━━━━━━━━━━━━━━\u001b[0m\u001b[37m\u001b[0m \u001b[1m0s\u001b[0m 1s/step - accuracy: 0.8509 - loss: 1.3048\n",
      "Epoch 8: val_loss improved from 1.12267 to 1.09989, saving model to best_model_loss.keras\n",
      "\n",
      "Epoch 8: val_accuracy improved from 0.93307 to 0.93701, saving model to best_model_accuracy.keras\n",
      "\u001b[1m132/132\u001b[0m \u001b[32m━━━━━━━━━━━━━━━━━━━━\u001b[0m\u001b[37m\u001b[0m \u001b[1m226s\u001b[0m 2s/step - accuracy: 0.8509 - loss: 1.3049 - val_accuracy: 0.9370 - val_loss: 1.0999\n",
      "Epoch 9/50\n",
      "\u001b[1m132/132\u001b[0m \u001b[32m━━━━━━━━━━━━━━━━━━━━\u001b[0m\u001b[37m\u001b[0m \u001b[1m0s\u001b[0m 1s/step - accuracy: 0.8481 - loss: 1.2885\n",
      "Epoch 9: val_loss did not improve from 1.09989\n",
      "\n",
      "Epoch 9: val_accuracy did not improve from 0.93701\n",
      "\u001b[1m132/132\u001b[0m \u001b[32m━━━━━━━━━━━━━━━━━━━━\u001b[0m\u001b[37m\u001b[0m \u001b[1m216s\u001b[0m 2s/step - accuracy: 0.8482 - loss: 1.2883 - val_accuracy: 0.9055 - val_loss: 1.1297\n",
      "Epoch 10/50\n",
      "\u001b[1m132/132\u001b[0m \u001b[32m━━━━━━━━━━━━━━━━━━━━\u001b[0m\u001b[37m\u001b[0m \u001b[1m0s\u001b[0m 2s/step - accuracy: 0.8707 - loss: 1.2312\n",
      "Epoch 10: val_loss did not improve from 1.09989\n",
      "\n",
      "Epoch 10: val_accuracy did not improve from 0.93701\n",
      "\u001b[1m132/132\u001b[0m \u001b[32m━━━━━━━━━━━━━━━━━━━━\u001b[0m\u001b[37m\u001b[0m \u001b[1m219s\u001b[0m 2s/step - accuracy: 0.8707 - loss: 1.2312 - val_accuracy: 0.9252 - val_loss: 1.1053\n",
      "Epoch 11/50\n",
      "\u001b[1m132/132\u001b[0m \u001b[32m━━━━━━━━━━━━━━━━━━━━\u001b[0m\u001b[37m\u001b[0m \u001b[1m0s\u001b[0m 2s/step - accuracy: 0.8769 - loss: 1.2288\n",
      "Epoch 11: val_loss improved from 1.09989 to 1.05835, saving model to best_model_loss.keras\n",
      "\n",
      "Epoch 11: val_accuracy improved from 0.93701 to 0.93898, saving model to best_model_accuracy.keras\n",
      "\u001b[1m132/132\u001b[0m \u001b[32m━━━━━━━━━━━━━━━━━━━━\u001b[0m\u001b[37m\u001b[0m \u001b[1m235s\u001b[0m 2s/step - accuracy: 0.8769 - loss: 1.2288 - val_accuracy: 0.9390 - val_loss: 1.0584\n",
      "Epoch 12/50\n",
      "\u001b[1m132/132\u001b[0m \u001b[32m━━━━━━━━━━━━━━━━━━━━\u001b[0m\u001b[37m\u001b[0m \u001b[1m0s\u001b[0m 2s/step - accuracy: 0.8843 - loss: 1.2109\n",
      "Epoch 12: val_loss did not improve from 1.05835\n",
      "\n",
      "Epoch 12: val_accuracy improved from 0.93898 to 0.94291, saving model to best_model_accuracy.keras\n",
      "\u001b[1m132/132\u001b[0m \u001b[32m━━━━━━━━━━━━━━━━━━━━\u001b[0m\u001b[37m\u001b[0m \u001b[1m238s\u001b[0m 2s/step - accuracy: 0.8843 - loss: 1.2109 - val_accuracy: 0.9429 - val_loss: 1.0622\n",
      "Epoch 13/50\n",
      "\u001b[1m132/132\u001b[0m \u001b[32m━━━━━━━━━━━━━━━━━━━━\u001b[0m\u001b[37m\u001b[0m \u001b[1m0s\u001b[0m 1s/step - accuracy: 0.8891 - loss: 1.1925\n",
      "Epoch 13: val_loss did not improve from 1.05835\n",
      "\n",
      "Epoch 13: val_accuracy did not improve from 0.94291\n",
      "\u001b[1m132/132\u001b[0m \u001b[32m━━━━━━━━━━━━━━━━━━━━\u001b[0m\u001b[37m\u001b[0m \u001b[1m218s\u001b[0m 2s/step - accuracy: 0.8892 - loss: 1.1923 - val_accuracy: 0.9370 - val_loss: 1.0630\n",
      "Epoch 14/50\n",
      "\u001b[1m132/132\u001b[0m \u001b[32m━━━━━━━━━━━━━━━━━━━━\u001b[0m\u001b[37m\u001b[0m \u001b[1m0s\u001b[0m 2s/step - accuracy: 0.8939 - loss: 1.1623\n",
      "Epoch 14: val_loss improved from 1.05835 to 1.04425, saving model to best_model_loss.keras\n",
      "\n",
      "Epoch 14: val_accuracy improved from 0.94291 to 0.95472, saving model to best_model_accuracy.keras\n",
      "\u001b[1m132/132\u001b[0m \u001b[32m━━━━━━━━━━━━━━━━━━━━\u001b[0m\u001b[37m\u001b[0m \u001b[1m233s\u001b[0m 2s/step - accuracy: 0.8939 - loss: 1.1623 - val_accuracy: 0.9547 - val_loss: 1.0443\n",
      "Epoch 15/50\n",
      "\u001b[1m132/132\u001b[0m \u001b[32m━━━━━━━━━━━━━━━━━━━━\u001b[0m\u001b[37m\u001b[0m \u001b[1m0s\u001b[0m 2s/step - accuracy: 0.8896 - loss: 1.1774\n",
      "Epoch 15: val_loss improved from 1.04425 to 1.02925, saving model to best_model_loss.keras\n",
      "\n",
      "Epoch 15: val_accuracy did not improve from 0.95472\n",
      "\u001b[1m132/132\u001b[0m \u001b[32m━━━━━━━━━━━━━━━━━━━━\u001b[0m\u001b[37m\u001b[0m \u001b[1m233s\u001b[0m 2s/step - accuracy: 0.8896 - loss: 1.1773 - val_accuracy: 0.9528 - val_loss: 1.0293\n",
      "Epoch 16/50\n",
      "\u001b[1m132/132\u001b[0m \u001b[32m━━━━━━━━━━━━━━━━━━━━\u001b[0m\u001b[37m\u001b[0m \u001b[1m0s\u001b[0m 1s/step - accuracy: 0.9103 - loss: 1.1231\n",
      "Epoch 16: val_loss did not improve from 1.02925\n",
      "\n",
      "Epoch 16: val_accuracy did not improve from 0.95472\n",
      "\u001b[1m132/132\u001b[0m \u001b[32m━━━━━━━━━━━━━━━━━━━━\u001b[0m\u001b[37m\u001b[0m \u001b[1m217s\u001b[0m 2s/step - accuracy: 0.9103 - loss: 1.1231 - val_accuracy: 0.9272 - val_loss: 1.0591\n",
      "Epoch 17/50\n",
      "\u001b[1m132/132\u001b[0m \u001b[32m━━━━━━━━━━━━━━━━━━━━\u001b[0m\u001b[37m\u001b[0m \u001b[1m0s\u001b[0m 1s/step - accuracy: 0.9176 - loss: 1.1084\n",
      "Epoch 17: val_loss improved from 1.02925 to 1.00530, saving model to best_model_loss.keras\n",
      "\n",
      "Epoch 17: val_accuracy improved from 0.95472 to 0.95669, saving model to best_model_accuracy.keras\n",
      "\u001b[1m132/132\u001b[0m \u001b[32m━━━━━━━━━━━━━━━━━━━━\u001b[0m\u001b[37m\u001b[0m \u001b[1m219s\u001b[0m 2s/step - accuracy: 0.9176 - loss: 1.1085 - val_accuracy: 0.9567 - val_loss: 1.0053\n",
      "Epoch 18/50\n",
      "\u001b[1m132/132\u001b[0m \u001b[32m━━━━━━━━━━━━━━━━━━━━\u001b[0m\u001b[37m\u001b[0m \u001b[1m0s\u001b[0m 2s/step - accuracy: 0.9031 - loss: 1.1351\n",
      "Epoch 18: val_loss improved from 1.00530 to 0.99647, saving model to best_model_loss.keras\n",
      "\n",
      "Epoch 18: val_accuracy improved from 0.95669 to 0.96654, saving model to best_model_accuracy.keras\n",
      "\u001b[1m132/132\u001b[0m \u001b[32m━━━━━━━━━━━━━━━━━━━━\u001b[0m\u001b[37m\u001b[0m \u001b[1m229s\u001b[0m 2s/step - accuracy: 0.9031 - loss: 1.1350 - val_accuracy: 0.9665 - val_loss: 0.9965\n",
      "Epoch 19/50\n",
      "\u001b[1m132/132\u001b[0m \u001b[32m━━━━━━━━━━━━━━━━━━━━\u001b[0m\u001b[37m\u001b[0m \u001b[1m0s\u001b[0m 1s/step - accuracy: 0.9218 - loss: 1.0934\n",
      "Epoch 19: val_loss did not improve from 0.99647\n",
      "\n",
      "Epoch 19: val_accuracy did not improve from 0.96654\n",
      "\u001b[1m132/132\u001b[0m \u001b[32m━━━━━━━━━━━━━━━━━━━━\u001b[0m\u001b[37m\u001b[0m \u001b[1m208s\u001b[0m 2s/step - accuracy: 0.9217 - loss: 1.0935 - val_accuracy: 0.9587 - val_loss: 1.0043\n",
      "Epoch 20/50\n",
      "\u001b[1m132/132\u001b[0m \u001b[32m━━━━━━━━━━━━━━━━━━━━\u001b[0m\u001b[37m\u001b[0m \u001b[1m0s\u001b[0m 1s/step - accuracy: 0.9120 - loss: 1.1131\n",
      "Epoch 20: val_loss did not improve from 0.99647\n",
      "\n",
      "Epoch 20: val_accuracy did not improve from 0.96654\n",
      "\u001b[1m132/132\u001b[0m \u001b[32m━━━━━━━━━━━━━━━━━━━━\u001b[0m\u001b[37m\u001b[0m \u001b[1m205s\u001b[0m 2s/step - accuracy: 0.9120 - loss: 1.1130 - val_accuracy: 0.9547 - val_loss: 1.0042\n",
      "Epoch 21/50\n",
      "\u001b[1m132/132\u001b[0m \u001b[32m━━━━━━━━━━━━━━━━━━━━\u001b[0m\u001b[37m\u001b[0m \u001b[1m0s\u001b[0m 1s/step - accuracy: 0.9107 - loss: 1.0940\n",
      "Epoch 21: val_loss improved from 0.99647 to 0.97754, saving model to best_model_loss.keras\n",
      "\n",
      "Epoch 21: val_accuracy did not improve from 0.96654\n",
      "\u001b[1m132/132\u001b[0m \u001b[32m━━━━━━━━━━━━━━━━━━━━\u001b[0m\u001b[37m\u001b[0m \u001b[1m211s\u001b[0m 2s/step - accuracy: 0.9108 - loss: 1.0939 - val_accuracy: 0.9606 - val_loss: 0.9775\n",
      "Epoch 22/50\n",
      "\u001b[1m132/132\u001b[0m \u001b[32m━━━━━━━━━━━━━━━━━━━━\u001b[0m\u001b[37m\u001b[0m \u001b[1m0s\u001b[0m 1s/step - accuracy: 0.9229 - loss: 1.0784\n",
      "Epoch 22: val_loss did not improve from 0.97754\n",
      "\n",
      "Epoch 22: val_accuracy did not improve from 0.96654\n",
      "\u001b[1m132/132\u001b[0m \u001b[32m━━━━━━━━━━━━━━━━━━━━\u001b[0m\u001b[37m\u001b[0m \u001b[1m207s\u001b[0m 2s/step - accuracy: 0.9228 - loss: 1.0784 - val_accuracy: 0.9567 - val_loss: 0.9790\n",
      "Epoch 23/50\n",
      "\u001b[1m132/132\u001b[0m \u001b[32m━━━━━━━━━━━━━━━━━━━━\u001b[0m\u001b[37m\u001b[0m \u001b[1m0s\u001b[0m 1s/step - accuracy: 0.9283 - loss: 1.0615\n",
      "Epoch 23: val_loss did not improve from 0.97754\n",
      "\n",
      "Epoch 23: val_accuracy did not improve from 0.96654\n",
      "\u001b[1m132/132\u001b[0m \u001b[32m━━━━━━━━━━━━━━━━━━━━\u001b[0m\u001b[37m\u001b[0m \u001b[1m206s\u001b[0m 2s/step - accuracy: 0.9282 - loss: 1.0616 - val_accuracy: 0.9567 - val_loss: 0.9804\n",
      "Epoch 24/50\n",
      "\u001b[1m132/132\u001b[0m \u001b[32m━━━━━━━━━━━━━━━━━━━━\u001b[0m\u001b[37m\u001b[0m \u001b[1m0s\u001b[0m 1s/step - accuracy: 0.9281 - loss: 1.0492\n",
      "Epoch 24: val_loss improved from 0.97754 to 0.96638, saving model to best_model_loss.keras\n",
      "\n",
      "Epoch 24: val_accuracy did not improve from 0.96654\n",
      "\u001b[1m132/132\u001b[0m \u001b[32m━━━━━━━━━━━━━━━━━━━━\u001b[0m\u001b[37m\u001b[0m \u001b[1m214s\u001b[0m 2s/step - accuracy: 0.9281 - loss: 1.0492 - val_accuracy: 0.9646 - val_loss: 0.9664\n",
      "Epoch 25/50\n",
      "\u001b[1m132/132\u001b[0m \u001b[32m━━━━━━━━━━━━━━━━━━━━\u001b[0m\u001b[37m\u001b[0m \u001b[1m0s\u001b[0m 1s/step - accuracy: 0.9267 - loss: 1.0332\n",
      "Epoch 25: val_loss did not improve from 0.96638\n",
      "\n",
      "Epoch 25: val_accuracy did not improve from 0.96654\n",
      "\u001b[1m132/132\u001b[0m \u001b[32m━━━━━━━━━━━━━━━━━━━━\u001b[0m\u001b[37m\u001b[0m \u001b[1m208s\u001b[0m 2s/step - accuracy: 0.9267 - loss: 1.0333 - val_accuracy: 0.9469 - val_loss: 0.9844\n",
      "Epoch 26/50\n",
      "\u001b[1m132/132\u001b[0m \u001b[32m━━━━━━━━━━━━━━━━━━━━\u001b[0m\u001b[37m\u001b[0m \u001b[1m0s\u001b[0m 2s/step - accuracy: 0.9295 - loss: 1.0250\n",
      "Epoch 26: val_loss improved from 0.96638 to 0.94861, saving model to best_model_loss.keras\n",
      "\n",
      "Epoch 26: val_accuracy did not improve from 0.96654\n",
      "\u001b[1m132/132\u001b[0m \u001b[32m━━━━━━━━━━━━━━━━━━━━\u001b[0m\u001b[37m\u001b[0m \u001b[1m236s\u001b[0m 2s/step - accuracy: 0.9295 - loss: 1.0249 - val_accuracy: 0.9646 - val_loss: 0.9486\n",
      "Epoch 27/50\n",
      "\u001b[1m132/132\u001b[0m \u001b[32m━━━━━━━━━━━━━━━━━━━━\u001b[0m\u001b[37m\u001b[0m \u001b[1m0s\u001b[0m 2s/step - accuracy: 0.9282 - loss: 1.0324\n",
      "Epoch 27: val_loss did not improve from 0.94861\n",
      "\n",
      "Epoch 27: val_accuracy did not improve from 0.96654\n",
      "\u001b[1m132/132\u001b[0m \u001b[32m━━━━━━━━━━━━━━━━━━━━\u001b[0m\u001b[37m\u001b[0m \u001b[1m232s\u001b[0m 2s/step - accuracy: 0.9282 - loss: 1.0323 - val_accuracy: 0.9429 - val_loss: 0.9999\n",
      "Epoch 28/50\n",
      "\u001b[1m132/132\u001b[0m \u001b[32m━━━━━━━━━━━━━━━━━━━━\u001b[0m\u001b[37m\u001b[0m \u001b[1m0s\u001b[0m 2s/step - accuracy: 0.9318 - loss: 1.0296\n",
      "Epoch 28: val_loss improved from 0.94861 to 0.94575, saving model to best_model_loss.keras\n",
      "\n",
      "Epoch 28: val_accuracy improved from 0.96654 to 0.96850, saving model to best_model_accuracy.keras\n",
      "\u001b[1m132/132\u001b[0m \u001b[32m━━━━━━━━━━━━━━━━━━━━\u001b[0m\u001b[37m\u001b[0m \u001b[1m237s\u001b[0m 2s/step - accuracy: 0.9318 - loss: 1.0295 - val_accuracy: 0.9685 - val_loss: 0.9457\n",
      "Epoch 29/50\n",
      "\u001b[1m132/132\u001b[0m \u001b[32m━━━━━━━━━━━━━━━━━━━━\u001b[0m\u001b[37m\u001b[0m \u001b[1m0s\u001b[0m 2s/step - accuracy: 0.9386 - loss: 1.0105\n",
      "Epoch 29: val_loss improved from 0.94575 to 0.94033, saving model to best_model_loss.keras\n",
      "\n",
      "Epoch 29: val_accuracy improved from 0.96850 to 0.97244, saving model to best_model_accuracy.keras\n",
      "\u001b[1m132/132\u001b[0m \u001b[32m━━━━━━━━━━━━━━━━━━━━\u001b[0m\u001b[37m\u001b[0m \u001b[1m237s\u001b[0m 2s/step - accuracy: 0.9386 - loss: 1.0104 - val_accuracy: 0.9724 - val_loss: 0.9403\n",
      "Epoch 30/50\n",
      "\u001b[1m132/132\u001b[0m \u001b[32m━━━━━━━━━━━━━━━━━━━━\u001b[0m\u001b[37m\u001b[0m \u001b[1m0s\u001b[0m 2s/step - accuracy: 0.9360 - loss: 0.9981\n",
      "Epoch 30: val_loss did not improve from 0.94033\n",
      "\n",
      "Epoch 30: val_accuracy did not improve from 0.97244\n",
      "\u001b[1m132/132\u001b[0m \u001b[32m━━━━━━━━━━━━━━━━━━━━\u001b[0m\u001b[37m\u001b[0m \u001b[1m226s\u001b[0m 2s/step - accuracy: 0.9360 - loss: 0.9981 - val_accuracy: 0.9606 - val_loss: 0.9538\n",
      "Epoch 31/50\n",
      "\u001b[1m132/132\u001b[0m \u001b[32m━━━━━━━━━━━━━━━━━━━━\u001b[0m\u001b[37m\u001b[0m \u001b[1m0s\u001b[0m 2s/step - accuracy: 0.9432 - loss: 0.9803\n",
      "Epoch 31: val_loss improved from 0.94033 to 0.92654, saving model to best_model_loss.keras\n",
      "\n",
      "Epoch 31: val_accuracy did not improve from 0.97244\n",
      "\u001b[1m132/132\u001b[0m \u001b[32m━━━━━━━━━━━━━━━━━━━━\u001b[0m\u001b[37m\u001b[0m \u001b[1m228s\u001b[0m 2s/step - accuracy: 0.9431 - loss: 0.9804 - val_accuracy: 0.9626 - val_loss: 0.9265\n",
      "Epoch 32/50\n",
      "\u001b[1m132/132\u001b[0m \u001b[32m━━━━━━━━━━━━━━━━━━━━\u001b[0m\u001b[37m\u001b[0m \u001b[1m0s\u001b[0m 1s/step - accuracy: 0.9416 - loss: 0.9860\n",
      "Epoch 32: val_loss improved from 0.92654 to 0.91574, saving model to best_model_loss.keras\n",
      "\n",
      "Epoch 32: val_accuracy did not improve from 0.97244\n",
      "\u001b[1m132/132\u001b[0m \u001b[32m━━━━━━━━━━━━━━━━━━━━\u001b[0m\u001b[37m\u001b[0m \u001b[1m219s\u001b[0m 2s/step - accuracy: 0.9415 - loss: 0.9860 - val_accuracy: 0.9705 - val_loss: 0.9157\n",
      "Epoch 33/50\n",
      "\u001b[1m132/132\u001b[0m \u001b[32m━━━━━━━━━━━━━━━━━━━━\u001b[0m\u001b[37m\u001b[0m \u001b[1m0s\u001b[0m 2s/step - accuracy: 0.9510 - loss: 0.9589\n",
      "Epoch 33: val_loss improved from 0.91574 to 0.90616, saving model to best_model_loss.keras\n",
      "\n",
      "Epoch 33: val_accuracy did not improve from 0.97244\n",
      "\u001b[1m132/132\u001b[0m \u001b[32m━━━━━━━━━━━━━━━━━━━━\u001b[0m\u001b[37m\u001b[0m \u001b[1m222s\u001b[0m 2s/step - accuracy: 0.9509 - loss: 0.9589 - val_accuracy: 0.9705 - val_loss: 0.9062\n",
      "Epoch 34/50\n",
      "\u001b[1m132/132\u001b[0m \u001b[32m━━━━━━━━━━━━━━━━━━━━\u001b[0m\u001b[37m\u001b[0m \u001b[1m0s\u001b[0m 2s/step - accuracy: 0.9521 - loss: 0.9542\n",
      "Epoch 34: val_loss did not improve from 0.90616\n",
      "\n",
      "Epoch 34: val_accuracy did not improve from 0.97244\n",
      "\u001b[1m132/132\u001b[0m \u001b[32m━━━━━━━━━━━━━━━━━━━━\u001b[0m\u001b[37m\u001b[0m \u001b[1m221s\u001b[0m 2s/step - accuracy: 0.9521 - loss: 0.9542 - val_accuracy: 0.9685 - val_loss: 0.9147\n",
      "Epoch 35/50\n",
      "\u001b[1m132/132\u001b[0m \u001b[32m━━━━━━━━━━━━━━━━━━━━\u001b[0m\u001b[37m\u001b[0m \u001b[1m0s\u001b[0m 2s/step - accuracy: 0.9525 - loss: 0.9576\n",
      "Epoch 35: val_loss improved from 0.90616 to 0.89976, saving model to best_model_loss.keras\n",
      "\n",
      "Epoch 35: val_accuracy did not improve from 0.97244\n",
      "\u001b[1m132/132\u001b[0m \u001b[32m━━━━━━━━━━━━━━━━━━━━\u001b[0m\u001b[37m\u001b[0m \u001b[1m232s\u001b[0m 2s/step - accuracy: 0.9525 - loss: 0.9576 - val_accuracy: 0.9685 - val_loss: 0.8998\n",
      "Epoch 36/50\n",
      "\u001b[1m132/132\u001b[0m \u001b[32m━━━━━━━━━━━━━━━━━━━━\u001b[0m\u001b[37m\u001b[0m \u001b[1m0s\u001b[0m 1s/step - accuracy: 0.9441 - loss: 0.9558\n",
      "Epoch 36: val_loss improved from 0.89976 to 0.89959, saving model to best_model_loss.keras\n",
      "\n",
      "Epoch 36: val_accuracy did not improve from 0.97244\n",
      "\u001b[1m132/132\u001b[0m \u001b[32m━━━━━━━━━━━━━━━━━━━━\u001b[0m\u001b[37m\u001b[0m \u001b[1m217s\u001b[0m 2s/step - accuracy: 0.9441 - loss: 0.9557 - val_accuracy: 0.9705 - val_loss: 0.8996\n",
      "Epoch 37/50\n",
      "\u001b[1m132/132\u001b[0m \u001b[32m━━━━━━━━━━━━━━━━━━━━\u001b[0m\u001b[37m\u001b[0m \u001b[1m0s\u001b[0m 1s/step - accuracy: 0.9553 - loss: 0.9303\n",
      "Epoch 37: val_loss improved from 0.89959 to 0.89382, saving model to best_model_loss.keras\n",
      "\n",
      "Epoch 37: val_accuracy did not improve from 0.97244\n",
      "\u001b[1m132/132\u001b[0m \u001b[32m━━━━━━━━━━━━━━━━━━━━\u001b[0m\u001b[37m\u001b[0m \u001b[1m218s\u001b[0m 2s/step - accuracy: 0.9553 - loss: 0.9304 - val_accuracy: 0.9646 - val_loss: 0.8938\n",
      "Epoch 38/50\n",
      "\u001b[1m132/132\u001b[0m \u001b[32m━━━━━━━━━━━━━━━━━━━━\u001b[0m\u001b[37m\u001b[0m \u001b[1m0s\u001b[0m 2s/step - accuracy: 0.9560 - loss: 0.9145\n",
      "Epoch 38: val_loss did not improve from 0.89382\n",
      "\n",
      "Epoch 38: val_accuracy did not improve from 0.97244\n",
      "\u001b[1m132/132\u001b[0m \u001b[32m━━━━━━━━━━━━━━━━━━━━\u001b[0m\u001b[37m\u001b[0m \u001b[1m228s\u001b[0m 2s/step - accuracy: 0.9560 - loss: 0.9145 - val_accuracy: 0.9626 - val_loss: 0.8995\n",
      "Epoch 39/50\n",
      "\u001b[1m132/132\u001b[0m \u001b[32m━━━━━━━━━━━━━━━━━━━━\u001b[0m\u001b[37m\u001b[0m \u001b[1m0s\u001b[0m 2s/step - accuracy: 0.9505 - loss: 0.9290\n",
      "Epoch 39: val_loss improved from 0.89382 to 0.87768, saving model to best_model_loss.keras\n",
      "\n",
      "Epoch 39: val_accuracy improved from 0.97244 to 0.97441, saving model to best_model_accuracy.keras\n",
      "\u001b[1m132/132\u001b[0m \u001b[32m━━━━━━━━━━━━━━━━━━━━\u001b[0m\u001b[37m\u001b[0m \u001b[1m240s\u001b[0m 2s/step - accuracy: 0.9505 - loss: 0.9291 - val_accuracy: 0.9744 - val_loss: 0.8777\n",
      "Epoch 40/50\n",
      "\u001b[1m132/132\u001b[0m \u001b[32m━━━━━━━━━━━━━━━━━━━━\u001b[0m\u001b[37m\u001b[0m \u001b[1m0s\u001b[0m 1s/step - accuracy: 0.9562 - loss: 0.9165\n",
      "Epoch 40: val_loss improved from 0.87768 to 0.86646, saving model to best_model_loss.keras\n",
      "\n",
      "Epoch 40: val_accuracy improved from 0.97441 to 0.97638, saving model to best_model_accuracy.keras\n",
      "\u001b[1m132/132\u001b[0m \u001b[32m━━━━━━━━━━━━━━━━━━━━\u001b[0m\u001b[37m\u001b[0m \u001b[1m220s\u001b[0m 2s/step - accuracy: 0.9561 - loss: 0.9166 - val_accuracy: 0.9764 - val_loss: 0.8665\n",
      "Epoch 41/50\n",
      "\u001b[1m132/132\u001b[0m \u001b[32m━━━━━━━━━━━━━━━━━━━━\u001b[0m\u001b[37m\u001b[0m \u001b[1m0s\u001b[0m 1s/step - accuracy: 0.9560 - loss: 0.9060\n",
      "Epoch 41: val_loss improved from 0.86646 to 0.86613, saving model to best_model_loss.keras\n",
      "\n",
      "Epoch 41: val_accuracy did not improve from 0.97638\n",
      "\u001b[1m132/132\u001b[0m \u001b[32m━━━━━━━━━━━━━━━━━━━━\u001b[0m\u001b[37m\u001b[0m \u001b[1m213s\u001b[0m 2s/step - accuracy: 0.9560 - loss: 0.9061 - val_accuracy: 0.9705 - val_loss: 0.8661\n",
      "Epoch 42/50\n",
      "\u001b[1m132/132\u001b[0m \u001b[32m━━━━━━━━━━━━━━━━━━━━\u001b[0m\u001b[37m\u001b[0m \u001b[1m0s\u001b[0m 1s/step - accuracy: 0.9480 - loss: 0.9106\n",
      "Epoch 42: val_loss improved from 0.86613 to 0.86130, saving model to best_model_loss.keras\n",
      "\n",
      "Epoch 42: val_accuracy did not improve from 0.97638\n",
      "\u001b[1m132/132\u001b[0m \u001b[32m━━━━━━━━━━━━━━━━━━━━\u001b[0m\u001b[37m\u001b[0m \u001b[1m211s\u001b[0m 2s/step - accuracy: 0.9480 - loss: 0.9106 - val_accuracy: 0.9744 - val_loss: 0.8613\n",
      "Epoch 43/50\n",
      "\u001b[1m132/132\u001b[0m \u001b[32m━━━━━━━━━━━━━━━━━━━━\u001b[0m\u001b[37m\u001b[0m \u001b[1m0s\u001b[0m 1s/step - accuracy: 0.9576 - loss: 0.8973\n",
      "Epoch 43: val_loss improved from 0.86130 to 0.85865, saving model to best_model_loss.keras\n",
      "\n",
      "Epoch 43: val_accuracy did not improve from 0.97638\n",
      "\u001b[1m132/132\u001b[0m \u001b[32m━━━━━━━━━━━━━━━━━━━━\u001b[0m\u001b[37m\u001b[0m \u001b[1m212s\u001b[0m 2s/step - accuracy: 0.9576 - loss: 0.8973 - val_accuracy: 0.9744 - val_loss: 0.8587\n",
      "Epoch 44/50\n",
      "\u001b[1m132/132\u001b[0m \u001b[32m━━━━━━━━━━━━━━━━━━━━\u001b[0m\u001b[37m\u001b[0m \u001b[1m0s\u001b[0m 1s/step - accuracy: 0.9590 - loss: 0.8933\n",
      "Epoch 44: val_loss improved from 0.85865 to 0.85654, saving model to best_model_loss.keras\n",
      "\n",
      "Epoch 44: val_accuracy did not improve from 0.97638\n",
      "\u001b[1m132/132\u001b[0m \u001b[32m━━━━━━━━━━━━━━━━━━━━\u001b[0m\u001b[37m\u001b[0m \u001b[1m212s\u001b[0m 2s/step - accuracy: 0.9590 - loss: 0.8933 - val_accuracy: 0.9705 - val_loss: 0.8565\n",
      "Epoch 45/50\n",
      "\u001b[1m132/132\u001b[0m \u001b[32m━━━━━━━━━━━━━━━━━━━━\u001b[0m\u001b[37m\u001b[0m \u001b[1m0s\u001b[0m 1s/step - accuracy: 0.9579 - loss: 0.8857\n",
      "Epoch 45: val_loss did not improve from 0.85654\n",
      "\n",
      "Epoch 45: val_accuracy did not improve from 0.97638\n",
      "\u001b[1m132/132\u001b[0m \u001b[32m━━━━━━━━━━━━━━━━━━━━\u001b[0m\u001b[37m\u001b[0m \u001b[1m209s\u001b[0m 2s/step - accuracy: 0.9579 - loss: 0.8857 - val_accuracy: 0.9646 - val_loss: 0.8597\n",
      "Epoch 46/50\n",
      "\u001b[1m132/132\u001b[0m \u001b[32m━━━━━━━━━━━━━━━━━━━━\u001b[0m\u001b[37m\u001b[0m \u001b[1m0s\u001b[0m 1s/step - accuracy: 0.9572 - loss: 0.8693\n",
      "Epoch 46: val_loss improved from 0.85654 to 0.83772, saving model to best_model_loss.keras\n",
      "\n",
      "Epoch 46: val_accuracy did not improve from 0.97638\n",
      "\u001b[1m132/132\u001b[0m \u001b[32m━━━━━━━━━━━━━━━━━━━━\u001b[0m\u001b[37m\u001b[0m \u001b[1m212s\u001b[0m 2s/step - accuracy: 0.9572 - loss: 0.8694 - val_accuracy: 0.9724 - val_loss: 0.8377\n",
      "Epoch 47/50\n",
      "\u001b[1m132/132\u001b[0m \u001b[32m━━━━━━━━━━━━━━━━━━━━\u001b[0m\u001b[37m\u001b[0m \u001b[1m0s\u001b[0m 1s/step - accuracy: 0.9628 - loss: 0.8611\n",
      "Epoch 47: val_loss improved from 0.83772 to 0.82911, saving model to best_model_loss.keras\n",
      "\n",
      "Epoch 47: val_accuracy did not improve from 0.97638\n",
      "\u001b[1m132/132\u001b[0m \u001b[32m━━━━━━━━━━━━━━━━━━━━\u001b[0m\u001b[37m\u001b[0m \u001b[1m207s\u001b[0m 2s/step - accuracy: 0.9628 - loss: 0.8611 - val_accuracy: 0.9685 - val_loss: 0.8291\n",
      "Epoch 48/50\n",
      "\u001b[1m132/132\u001b[0m \u001b[32m━━━━━━━━━━━━━━━━━━━━\u001b[0m\u001b[37m\u001b[0m \u001b[1m0s\u001b[0m 1s/step - accuracy: 0.9476 - loss: 0.8929\n",
      "Epoch 48: val_loss did not improve from 0.82911\n",
      "\n",
      "Epoch 48: val_accuracy did not improve from 0.97638\n",
      "\u001b[1m132/132\u001b[0m \u001b[32m━━━━━━━━━━━━━━━━━━━━\u001b[0m\u001b[37m\u001b[0m \u001b[1m204s\u001b[0m 2s/step - accuracy: 0.9477 - loss: 0.8927 - val_accuracy: 0.9705 - val_loss: 0.8331\n",
      "Epoch 49/50\n",
      "\u001b[1m132/132\u001b[0m \u001b[32m━━━━━━━━━━━━━━━━━━━━\u001b[0m\u001b[37m\u001b[0m \u001b[1m0s\u001b[0m 2s/step - accuracy: 0.9670 - loss: 0.8492\n",
      "Epoch 49: val_loss did not improve from 0.82911\n",
      "\n",
      "Epoch 49: val_accuracy did not improve from 0.97638\n",
      "\u001b[1m132/132\u001b[0m \u001b[32m━━━━━━━━━━━━━━━━━━━━\u001b[0m\u001b[37m\u001b[0m \u001b[1m229s\u001b[0m 2s/step - accuracy: 0.9670 - loss: 0.8493 - val_accuracy: 0.9665 - val_loss: 0.8334\n",
      "Epoch 50/50\n",
      "\u001b[1m132/132\u001b[0m \u001b[32m━━━━━━━━━━━━━━━━━━━━\u001b[0m\u001b[37m\u001b[0m \u001b[1m0s\u001b[0m 2s/step - accuracy: 0.9634 - loss: 0.8549\n",
      "Epoch 50: val_loss improved from 0.82911 to 0.81321, saving model to best_model_loss.keras\n",
      "\n",
      "Epoch 50: val_accuracy did not improve from 0.97638\n",
      "\u001b[1m132/132\u001b[0m \u001b[32m━━━━━━━━━━━━━━━━━━━━\u001b[0m\u001b[37m\u001b[0m \u001b[1m229s\u001b[0m 2s/step - accuracy: 0.9634 - loss: 0.8548 - val_accuracy: 0.9705 - val_loss: 0.8132\n"
     ]
    }
   ],
   "source": [
    "checkpoint_loss = ModelCheckpoint('best_model_loss.keras', monitor='val_loss', save_best_only=True, verbose=1)\n",
    "checkpoint_accuracy = ModelCheckpoint('best_model_accuracy.keras', monitor='val_accuracy', save_best_only=True, verbose=1)\n",
    "early_stopping = EarlyStopping(monitor='val_loss', patience=7, verbose=1)\n",
    "\n",
    "# Train the model\n",
    "history_fine_tune = ensemble_model.fit(\n",
    "    train_generator,\n",
    "    validation_data=val_generator,\n",
    "    epochs=50,  # Train for a larger number of epochs\n",
    "    callbacks=[checkpoint_loss, checkpoint_accuracy, early_stopping]\n",
    ")"
   ]
  },
  {
   "cell_type": "code",
   "execution_count": 17,
   "metadata": {},
   "outputs": [
    {
     "data": {
      "image/png": "[encoded data removed]",
      "text/plain": [
       "<Figure size 640x480 with 1 Axes>"
      ]
     },
     "metadata": {},
     "output_type": "display_data"
    }
   ],
   "source": [
    "import matplotlib.pyplot as plt\n",
    "\n",
    "# Plot the training history\n",
    "plt.plot(history_fine_tune.history['accuracy'], label='Train Accuracy')\n",
    "plt.plot(history_fine_tune.history['val_accuracy'], label='Validation Accuracy')\n",
    "plt.xlabel('Epochs')\n",
    "plt.ylabel('Accuracy')\n",
    "plt.legend()\n",
    "plt.show()"
   ]
  },
  {
   "cell_type": "code",
   "execution_count": 18,
   "metadata": {},
   "outputs": [
    {
     "data": {
      "image/png": "[encoded data removed]",
      "text/plain": [
       "<Figure size 1200x500 with 2 Axes>"
      ]
     },
     "metadata": {},
     "output_type": "display_data"
    }
   ],
   "source": [
    "epochs = range(1, len(history_fine_tune.history['accuracy']) + 1)\n",
    "train_accuracy = history_fine_tune.history['accuracy']\n",
    "val_accuracy = history_fine_tune.history['val_accuracy']\n",
    "train_loss = history_fine_tune.history['loss']\n",
    "val_loss = history_fine_tune.history['val_loss']\n",
    "\n",
    "# Plotting accuracy\n",
    "plt.figure(figsize=(12, 5))\n",
    "plt.subplot(1, 2, 1)\n",
    "plt.plot(epochs, train_accuracy, label='Training Accuracy')\n",
    "plt.plot(epochs, val_accuracy, label='Validation Accuracy')\n",
    "plt.title('Training and Validation Accuracy')\n",
    "plt.xlabel('Epochs')\n",
    "plt.ylabel('Accuracy')\n",
    "plt.legend()\n",
    "plt.grid()\n",
    "\n",
    "# Plotting loss\n",
    "plt.subplot(1, 2, 2)\n",
    "plt.plot(epochs, train_loss, label='Training Loss')\n",
    "plt.plot(epochs, val_loss, label='Validation Loss')\n",
    "plt.title('Training and Validation Loss')\n",
    "plt.xlabel('Epochs')\n",
    "plt.ylabel('Loss')\n",
    "plt.legend()\n",
    "plt.grid()\n",
    "\n",
    "plt.tight_layout()\n",
    "plt.show()"
   ]
  },
  {
   "cell_type": "code",
   "execution_count": 19,
   "metadata": {},
   "outputs": [
    {
     "name": "stdout",
     "output_type": "stream",
     "text": [
      "\u001b[1m20/20\u001b[0m \u001b[32m━━━━━━━━━━━━━━━━━━━━\u001b[0m\u001b[37m\u001b[0m \u001b[1m27s\u001b[0m 1s/step - accuracy: 0.9762 - loss: 0.8078\n",
      "Test accuracy: 0.9843, Test loss: 0.7903\n"
     ]
    }
   ],
   "source": [
    "test_loss, test_accuracy = ensemble_model.evaluate(test_generator)\n",
    "print(f\"Test accuracy: {test_accuracy:.4f}, Test loss: {test_loss:.4f}\")"
   ]
  },
  {
   "cell_type": "code",
   "execution_count": 20,
   "metadata": {},
   "outputs": [
    {
     "name": "stdout",
     "output_type": "stream",
     "text": [
      "\u001b[1m20/20\u001b[0m \u001b[32m━━━━━━━━━━━━━━━━━━━━\u001b[0m\u001b[37m\u001b[0m \u001b[1m35s\u001b[0m 1s/step\n",
      "              precision    recall  f1-score   support\n",
      "\n",
      "           0       0.98      0.99      0.98       330\n",
      "           1       0.98      0.95      0.97       126\n",
      "           2       0.99      0.99      0.99       124\n",
      "           3       1.00      1.00      1.00        55\n",
      "\n",
      "    accuracy                           0.98       635\n",
      "   macro avg       0.99      0.98      0.99       635\n",
      "weighted avg       0.98      0.98      0.98       635\n",
      "\n"
     ]
    }
   ],
   "source": [
    "from sklearn.metrics import classification_report\n",
    "\n",
    "# Get predictions\n",
    "y_pred = ensemble_model.predict(test_generator)\n",
    "y_pred_classes = np.argmax(y_pred, axis=1)\n",
    "\n",
    "# Print classification report\n",
    "y_test_numeric = np.array([int(label) for label in y_test])\n",
    "\n",
    "# Print classification report\n",
    "print(classification_report(y_test_numeric, y_pred_classes))"
   ]
  },
  {
   "cell_type": "code",
   "execution_count": 21,
   "metadata": {},
   "outputs": [
    {
     "data": {
      "image/png": "[encoded data removed]",
      "text/plain": [
       "<Figure size 1000x600 with 2 Axes>"
      ]
     },
     "metadata": {},
     "output_type": "display_data"
    },
    {
     "name": "stdout",
     "output_type": "stream",
     "text": [
      "                  precision    recall  f1-score   support\n",
      "\n",
      "         Healthy       0.98      0.99      0.98       330\n",
      "      Apple_scab       0.98      0.95      0.97       126\n",
      "       Black_rot       0.99      0.99      0.99       124\n",
      "Cedar_apple_rust       1.00      1.00      1.00        55\n",
      "\n",
      "        accuracy                           0.98       635\n",
      "       macro avg       0.99      0.98      0.99       635\n",
      "    weighted avg       0.98      0.98      0.98       635\n",
      "\n"
     ]
    }
   ],
   "source": [
    "import seaborn as sns\n",
    "from sklearn.metrics import confusion_matrix, classification_report\n",
    "\n",
    "# Define class names\n",
    "class_names = [\n",
    "    \"Healthy\",\n",
    "    \"Apple_scab\",\n",
    "    \"Black_rot\",\n",
    "    \"Cedar_apple_rust\"\n",
    "]\n",
    "\n",
    "# Compute confusion matrix\n",
    "cm = confusion_matrix(y_test_numeric, y_pred_classes)\n",
    "\n",
    "# Visualize confusion matrix\n",
    "plt.figure(figsize=(10, 6))\n",
    "sns.heatmap(cm, annot=True, fmt='d', cmap='YlGn', xticklabels=class_names, yticklabels=class_names)\n",
    "plt.xlabel('Predicted')\n",
    "plt.ylabel('True')\n",
    "plt.title('Confusion Matrix')\n",
    "plt.show()\n",
    "\n",
    "# Print classification report\n",
    "report = classification_report(y_test_numeric, y_pred_classes, target_names=class_names)\n",
    "print(report)"
   ]
  },
  {
   "cell_type": "code",
   "execution_count": null,
   "metadata": {},
   "outputs": [],
   "source": []
  }
 ],
 "metadata": {
  "kernelspec": {
   "display_name": "myenv",
   "language": "python",
   "name": "python3"
  },
  "language_info": {
   "codemirror_mode": {
    "name": "ipython",
    "version": 3
   },
   "file_extension": ".py",
   "mimetype": "text/x-python",
   "name": "python",
   "nbconvert_exporter": "python",
   "pygments_lexer": "ipython3",
   "version": "3.12.5"
  }
 },
 "nbformat": 4,
 "nbformat_minor": 2
}
